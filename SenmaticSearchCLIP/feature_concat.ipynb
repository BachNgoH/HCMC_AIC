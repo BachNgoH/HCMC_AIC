{
 "cells": [
  {
   "cell_type": "code",
   "execution_count": 2,
   "metadata": {},
   "outputs": [],
   "source": [
    "import numpy as np\n",
    "import pandas as pd\n",
    "\n",
    "\n",
    "features_list = [np.load(\"./features.npy\"), np.load(\"./features/features.npy\")]\n",
    "\n",
    "features = np.concatenate(features_list)\n",
    "\n",
    "# Load all photo IDs\n",
    "photo_ids = pd.concat([pd.read_csv(\"photo_ids.csv\"), pd.read_csv(\"features/photo_ids.csv\")])"
   ]
  },
  {
   "cell_type": "code",
   "execution_count": 4,
   "metadata": {},
   "outputs": [
    {
     "data": {
      "text/plain": [
       "(453505, 512)"
      ]
     },
     "execution_count": 4,
     "metadata": {},
     "output_type": "execute_result"
    }
   ],
   "source": [
    "features.shape"
   ]
  },
  {
   "cell_type": "code",
   "execution_count": 5,
   "metadata": {},
   "outputs": [
    {
     "data": {
      "text/html": [
       "<div>\n",
       "<style scoped>\n",
       "    .dataframe tbody tr th:only-of-type {\n",
       "        vertical-align: middle;\n",
       "    }\n",
       "\n",
       "    .dataframe tbody tr th {\n",
       "        vertical-align: top;\n",
       "    }\n",
       "\n",
       "    .dataframe thead th {\n",
       "        text-align: right;\n",
       "    }\n",
       "</style>\n",
       "<table border=\"1\" class=\"dataframe\">\n",
       "  <thead>\n",
       "    <tr style=\"text-align: right;\">\n",
       "      <th></th>\n",
       "      <th>photo_id</th>\n",
       "    </tr>\n",
       "  </thead>\n",
       "  <tbody>\n",
       "    <tr>\n",
       "      <th>0</th>\n",
       "      <td>C00_V0084-007086</td>\n",
       "    </tr>\n",
       "    <tr>\n",
       "      <th>1</th>\n",
       "      <td>C00_V0084-006016</td>\n",
       "    </tr>\n",
       "    <tr>\n",
       "      <th>2</th>\n",
       "      <td>C00_V0084-030080</td>\n",
       "    </tr>\n",
       "    <tr>\n",
       "      <th>3</th>\n",
       "      <td>C00_V0084-015597</td>\n",
       "    </tr>\n",
       "    <tr>\n",
       "      <th>4</th>\n",
       "      <td>C00_V0084-007710</td>\n",
       "    </tr>\n",
       "    <tr>\n",
       "      <th>...</th>\n",
       "      <td>...</td>\n",
       "    </tr>\n",
       "    <tr>\n",
       "      <th>200102</th>\n",
       "      <td>C02_V0362-002850</td>\n",
       "    </tr>\n",
       "    <tr>\n",
       "      <th>200103</th>\n",
       "      <td>C02_V0362-059964</td>\n",
       "    </tr>\n",
       "    <tr>\n",
       "      <th>200104</th>\n",
       "      <td>C02_V0362-066300</td>\n",
       "    </tr>\n",
       "    <tr>\n",
       "      <th>200105</th>\n",
       "      <td>C02_V0362-060081</td>\n",
       "    </tr>\n",
       "    <tr>\n",
       "      <th>200106</th>\n",
       "      <td>C02_V0362-068100</td>\n",
       "    </tr>\n",
       "  </tbody>\n",
       "</table>\n",
       "<p>453505 rows × 1 columns</p>\n",
       "</div>"
      ],
      "text/plain": [
       "                photo_id\n",
       "0       C00_V0084-007086\n",
       "1       C00_V0084-006016\n",
       "2       C00_V0084-030080\n",
       "3       C00_V0084-015597\n",
       "4       C00_V0084-007710\n",
       "...                  ...\n",
       "200102  C02_V0362-002850\n",
       "200103  C02_V0362-059964\n",
       "200104  C02_V0362-066300\n",
       "200105  C02_V0362-060081\n",
       "200106  C02_V0362-068100\n",
       "\n",
       "[453505 rows x 1 columns]"
      ]
     },
     "execution_count": 5,
     "metadata": {},
     "output_type": "execute_result"
    }
   ],
   "source": [
    "photo_ids"
   ]
  },
  {
   "cell_type": "code",
   "execution_count": 6,
   "metadata": {},
   "outputs": [],
   "source": [
    "np.save(\"features.npy\", features)"
   ]
  },
  {
   "cell_type": "code",
   "execution_count": 7,
   "metadata": {},
   "outputs": [],
   "source": [
    "photo_ids.to_csv(\"photo_ids.csv\", index=False)"
   ]
  },
  {
   "cell_type": "code",
   "execution_count": 8,
   "metadata": {},
   "outputs": [
    {
     "data": {
      "text/plain": [
       "(453505, 512)"
      ]
     },
     "execution_count": 8,
     "metadata": {},
     "output_type": "execute_result"
    }
   ],
   "source": [
    "np.load(\"features.npy\").shape"
   ]
  },
  {
   "cell_type": "markdown",
   "metadata": {},
   "source": [
    "# Speed Test"
   ]
  },
  {
   "cell_type": "markdown",
   "metadata": {},
   "source": []
  }
 ],
 "metadata": {
  "kernelspec": {
   "display_name": "Python 3.8.8 ('pytorch')",
   "language": "python",
   "name": "python3"
  },
  "language_info": {
   "codemirror_mode": {
    "name": "ipython",
    "version": 3
   },
   "file_extension": ".py",
   "mimetype": "text/x-python",
   "name": "python",
   "nbconvert_exporter": "python",
   "pygments_lexer": "ipython3",
   "version": "3.8.8"
  },
  "orig_nbformat": 4,
  "vscode": {
   "interpreter": {
    "hash": "f6ef8195f129b03247a453c587b336fb2202c0044991062be02a4a37ada5ffbe"
   }
  }
 },
 "nbformat": 4,
 "nbformat_minor": 2
}
